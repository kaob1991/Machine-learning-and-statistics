{
 "cells": [
  {
   "cell_type": "markdown",
   "id": "5162a0f5",
   "metadata": {},
   "source": [
    "# Keras Time-Series Anomaly Detection\n",
    "\n",
    "\n",
    "https://keras.io/examples/timeseries/timeseries_anomaly_detection/\n",
    "\n",
    "https://www.kaggle.com/datasets/boltzmannbrain/nab?resource=download\n",
    "\n",
    "https://towardsdatascience.com/anomaly-detection-using-autoencoders-5b032178a1ea\n",
    "\n",
    "https://www.statology.org/high-dimensional-data/\n",
    "\n",
    "[1]: https://stats.stackexchange.com/questions/262044/what-does-a-bottleneck-layer-mean-in-neural-networks\n",
    "\n",
    "https://stackoverflow.com/questions/44334348/low-and-high-dimensional-data\n",
    "\n",
    "[2]: https://www.baeldung.com/cs/dl-latent-space#:~:text=Definition,other%20in%20the%20latent%20space.\n",
    "\n",
    "This script demonstrates how you can use a reconstruction convolutional autoencoder model to detect anomalies in timeseries data.\n",
    "\n",
    "\n",
    "An AutoEncoder model is a generative unsupervised deep learning algorithm used for reconstructing high-dimensional input data (or data which has more features than observations),  using a neural network with a narrow bottleneck layer in the middle which contains the latent representation of the input data.\n",
    "\n",
    "![](https://www.statology.org/wp-content/uploads/2021/02/highDim1-768x200.png)\n",
    "\n",
    "A narrow bottleneck layer basically means that the layer has fewer nodes and this can be used to obtain a representation of the input with reduced dimensionality. [1]\n",
    "\n",
    "An Autoencoder consists of an Encoder and a Decoder.\n",
    "\n",
    "## Encoder network: \n",
    "Accepts high-dimensional input data and translates it to latent low-dimensional data (data which has more observations than features). An example of low dimensional data would be the well-known Fishers' iris dataset.  The input size to an Encoder network is larger than its output size.\n",
    "\n",
    "## Decoder network:\n",
    "The Decoder network receives the input from the Encoder coder’s output, and its objective is to reconstruct the input data. The output size of a Decoder network is larger than its input size.\n",
    "\n",
    "So, the Autoencoder accepts high-dimensional input data, compresses it down to the latent-space representation in the bottleneck hidden layer; the Decoder takes the latent representation of the data as an input to reconstruct the original input data.\n",
    "\n",
    "## Latent Space \n",
    "Formally, a latent space is defined as an abstract multi-dimensional space that encodes a meaningful internal representation of externally observed events. [2] Samples that are similar in the external world are positioned close to each other in the latent space.\n",
    "\n",
    "\n",
    "\n",
    "# As far as here\n",
    "\n",
    "To better understand the concept, let’s think about how humans perceive the world. We are able to understand a broad range of topics by encoding each observed event in a compressed representation in our brain.\n",
    "\n",
    "For example, we don’t keep in mind every detail of the appearance of a dog to be able to recognize a dog in the street. As we can see in the illustration below, we keep an internal representation of the general appearance of a dog: In a similar way, the latent space tries to provide a compressed understanding of the world to a computer through a spatial representation.\n",
    "\n",
    "Deep learning has revolutionized many aspects of our life with applications ranging from self-driving cars to predicting serious diseases. Its main goal is to transform the raw data (such as the pixel values of an image) into a suitable internal representation or feature vector from which the learning subsystem, often a classifier, could detect or classify patterns in the input. So, we realize that deep learning and latent space are strongly related concepts since the internal representations of the former constitute the latter.\n",
    "\n",
    "As we can see below, a deep learning model takes as input raw data and outputs discriminative features that lie in a low-dimensional space referred to as latent space. These features are then used to solve various tasks like classification, regression, or reconstruction:\n",
    "1 latent\n",
    "\n",
    "To better understand the importance of latent space in deep learning, we should think of the following question: Why do we have to encode the raw data in a low-dimensional latent space before classification, regression, or reconstruction?\n",
    "\n",
    "The answer is data compression. Specifically, in cases where our input data are high-dimensional, it is impossible to learn important information directly from the raw data.\n",
    "\n",
    "For example, in an image classification task, the input dimensions could be 512 \\times 512 \\times 3 that correspond to 512*512*3=786,432 input pixels. It seems impossible for a system to learn useful patterns for classification by looking at so many values. The solution is to encode the high-dimensional input space to a low-dimensional latent space using a deep neural network.\n",
    "\n",
    "\n",
    "\n",
    "\n",
    "\n",
    "\n",
    "\n",
    "\n",
    "\n",
    "Autoencoders Usage\n",
    "Dimensionality Reduction. The Encoder encodes the input into the hidden layer to reduce the dimensionality of linear and nonlinear data; hence it is more powerful than PCA.\n",
    "Recommendation Engines\n",
    "Anomaly Detection: Autoencoders tries to minimize the reconstruction error as part of its training. Anomalies are detected by checking the magnitude of the reconstruction loss.\n",
    "Denoising Images: An image that is corrupted can be restored to its original version.\n",
    "Image recognition: Stacked autoencoder are used for image recognition by learning the different features of an image.\n",
    "Image generation: Variational Autoencoder(VAE), a type of autoencoders, is used to generate images.\n",
    "Read about different types of Autoencoder here.\n",
    "\n",
    "Anomaly detection using Autoencoders\n",
    "Follow the following steps to detect anomalies in a high-dimension dataset. You can apply this to unbalanced datasets too.\n",
    "\n",
    "During the training, input only normal transactions to the Encoder. The bottleneck layer will learn the latent representation of the normal input data.\n",
    "The Decoder will use the bottleneck layers output to reconstruct the normal transactions of the original input data.\n",
    "A fraudulent transaction will be different from a normal transaction. The Autoencoder will have trouble reconstructing the fraudulent transaction, and hence the reconstruction error will be high.\n",
    "You can flag a new transaction is fraudulent based on a specified threshold value for the reconstruction error.\n",
    "\n"
   ]
  },
  {
   "cell_type": "code",
   "execution_count": 1,
   "id": "91e88bda",
   "metadata": {},
   "outputs": [
    {
     "name": "stderr",
     "output_type": "stream",
     "text": [
      "2023-01-04 23:54:45.386661: I tensorflow/core/platform/cpu_feature_guard.cc:193] This TensorFlow binary is optimized with oneAPI Deep Neural Network Library (oneDNN) to use the following CPU instructions in performance-critical operations:  AVX2 FMA\n",
      "To enable them in other operations, rebuild TensorFlow with the appropriate compiler flags.\n",
      "2023-01-04 23:54:45.597193: W tensorflow/compiler/xla/stream_executor/platform/default/dso_loader.cc:64] Could not load dynamic library 'libcudart.so.11.0'; dlerror: libcudart.so.11.0: cannot open shared object file: No such file or directory\n",
      "2023-01-04 23:54:45.597295: I tensorflow/compiler/xla/stream_executor/cuda/cudart_stub.cc:29] Ignore above cudart dlerror if you do not have a GPU set up on your machine.\n",
      "2023-01-04 23:54:46.457976: W tensorflow/compiler/xla/stream_executor/platform/default/dso_loader.cc:64] Could not load dynamic library 'libnvinfer.so.7'; dlerror: libnvinfer.so.7: cannot open shared object file: No such file or directory\n",
      "2023-01-04 23:54:46.458911: W tensorflow/compiler/xla/stream_executor/platform/default/dso_loader.cc:64] Could not load dynamic library 'libnvinfer_plugin.so.7'; dlerror: libnvinfer_plugin.so.7: cannot open shared object file: No such file or directory\n",
      "2023-01-04 23:54:46.458943: W tensorflow/compiler/tf2tensorrt/utils/py_utils.cc:38] TF-TRT Warning: Cannot dlopen some TensorRT libraries. If you would like to use Nvidia GPU with TensorRT, please make sure the missing libraries mentioned above are installed properly.\n"
     ]
    }
   ],
   "source": [
    "# Importing required libraries \n",
    "\n",
    "\n",
    "import pandas as pd\n",
    "import matplotlib.pyplot as plt\n",
    "import  numpy as np \n",
    "import tensorflow.keras as keras\n",
    "from tensorflow.keras import layers\n",
    "\n"
   ]
  },
  {
   "cell_type": "markdown",
   "id": "3dee7f67",
   "metadata": {},
   "source": [
    "In the Keras Time-Series Anomaly Detection example the user uses the *Numenta Anomaly Benchmark(NAB)* dataset. It provides artifical timeseries data containing labeled anomalous periods of behavior. Data are ordered, timestamped, single-valued metrics. \n",
    "\n",
    "Firstly, in order to get the data from the NAB dataset we must pull it from its github repository using the methods below"
   ]
  },
  {
   "cell_type": "code",
   "execution_count": 2,
   "id": "3f9ccffd",
   "metadata": {},
   "outputs": [],
   "source": [
    "\n",
    "# Root of URLs.\n",
    "root_url = 'https://raw.githubusercontent.com/numenta/NAB/master/data/'\n",
    "\n",
    "# Data file without anomaly.\n",
    "no_anomaly_url = root_url + 'artificialNoAnomaly/art_daily_small_noise.csv'\n",
    "\n",
    "# Data file with anomaly.\n",
    "with_anomaly_url = root_url + 'artificialWithAnomaly/art_daily_jumpsup.csv'\n",
    "\n"
   ]
  },
  {
   "cell_type": "code",
   "execution_count": 3,
   "id": "e4bde449",
   "metadata": {},
   "outputs": [
    {
     "name": "stdout",
     "output_type": "stream",
     "text": [
      "                         value\n",
      "timestamp                     \n",
      "2014-04-01 00:00:00  18.324919\n",
      "2014-04-01 00:05:00  21.970327\n",
      "2014-04-01 00:10:00  18.624806\n",
      "2014-04-01 00:15:00  21.953684\n",
      "2014-04-01 00:20:00  21.909120\n"
     ]
    }
   ],
   "source": [
    "# Create the non-anomaly data set using Pandas 'read_csv()' function\n",
    "no_anomaly = pd.read_csv(no_anomaly_url, parse_dates=True, index_col=\"timestamp\")\n",
    "\n",
    "# Print the first 5 rows to ensure that the data is importing correctly\n",
    "print(no_anomaly.head())\n",
    "\n"
   ]
  },
  {
   "cell_type": "code",
   "execution_count": 4,
   "id": "16a3455a-be52-49f0-8d43-4cebab00bbba",
   "metadata": {},
   "outputs": [
    {
     "data": {
      "text/html": [
       "<div>\n",
       "<style scoped>\n",
       "    .dataframe tbody tr th:only-of-type {\n",
       "        vertical-align: middle;\n",
       "    }\n",
       "\n",
       "    .dataframe tbody tr th {\n",
       "        vertical-align: top;\n",
       "    }\n",
       "\n",
       "    .dataframe thead th {\n",
       "        text-align: right;\n",
       "    }\n",
       "</style>\n",
       "<table border=\"1\" class=\"dataframe\">\n",
       "  <thead>\n",
       "    <tr style=\"text-align: right;\">\n",
       "      <th></th>\n",
       "      <th>value</th>\n",
       "    </tr>\n",
       "  </thead>\n",
       "  <tbody>\n",
       "    <tr>\n",
       "      <th>count</th>\n",
       "      <td>4032.000000</td>\n",
       "    </tr>\n",
       "    <tr>\n",
       "      <th>mean</th>\n",
       "      <td>42.438353</td>\n",
       "    </tr>\n",
       "    <tr>\n",
       "      <th>std</th>\n",
       "      <td>28.077122</td>\n",
       "    </tr>\n",
       "    <tr>\n",
       "      <th>min</th>\n",
       "      <td>18.000964</td>\n",
       "    </tr>\n",
       "    <tr>\n",
       "      <th>25%</th>\n",
       "      <td>19.841390</td>\n",
       "    </tr>\n",
       "    <tr>\n",
       "      <th>50%</th>\n",
       "      <td>21.608487</td>\n",
       "    </tr>\n",
       "    <tr>\n",
       "      <th>75%</th>\n",
       "      <td>75.450282</td>\n",
       "    </tr>\n",
       "    <tr>\n",
       "      <th>max</th>\n",
       "      <td>87.976128</td>\n",
       "    </tr>\n",
       "  </tbody>\n",
       "</table>\n",
       "</div>"
      ],
      "text/plain": [
       "             value\n",
       "count  4032.000000\n",
       "mean     42.438353\n",
       "std      28.077122\n",
       "min      18.000964\n",
       "25%      19.841390\n",
       "50%      21.608487\n",
       "75%      75.450282\n",
       "max      87.976128"
      ]
     },
     "execution_count": 4,
     "metadata": {},
     "output_type": "execute_result"
    }
   ],
   "source": [
    "# Describe the dataframe\n",
    "no_anomaly.describe()"
   ]
  },
  {
   "cell_type": "markdown",
   "id": "c2f60f14-3501-41f4-83e9-f1abf61dda7d",
   "metadata": {},
   "source": [
    "The ```describe``` function return the mean, max and standard deviation among other variables. \n",
    "\n",
    "We will then plot the data to get an overall view of the dataset. "
   ]
  },
  {
   "cell_type": "code",
   "execution_count": 5,
   "id": "9aad06e3-874f-4210-b6f5-2e390080ea75",
   "metadata": {},
   "outputs": [
    {
     "data": {
      "image/png": "[encoded data removed]",
      "text/plain": [
       "<Figure size 1000x400 with 1 Axes>"
      ]
     },
     "metadata": {},
     "output_type": "display_data"
    }
   ],
   "source": [
    "# Set the figsize for the dataset \n",
    "fig, ax = plt.subplots(figsize=(10,4))\n",
    "\n",
    "# Use pandas to plot data frame.\n",
    "no_anomaly.plot(legend=False, ax=ax);"
   ]
  },
  {
   "cell_type": "code",
   "execution_count": 6,
   "id": "451fd0f1-ae3d-4263-9d11-f98e5fefa3f8",
   "metadata": {},
   "outputs": [],
   "source": [
    "# Getting the anomaly dataset \n",
    "with_anomaly= pd.read_csv(with_anomaly_url, parse_dates=True, index_col=\"timestamp\")"
   ]
  },
  {
   "cell_type": "code",
   "execution_count": 7,
   "id": "62c75e08-5143-4487-a930-6eb38694c262",
   "metadata": {},
   "outputs": [
    {
     "name": "stdout",
     "output_type": "stream",
     "text": [
      "                         value\n",
      "timestamp                     \n",
      "2014-04-01 00:00:00  19.761252\n",
      "2014-04-01 00:05:00  20.500833\n",
      "2014-04-01 00:10:00  19.961641\n",
      "2014-04-01 00:15:00  21.490266\n",
      "2014-04-01 00:20:00  20.187739\n"
     ]
    }
   ],
   "source": [
    "# print first few rows to ensure that the data is imported correctly\n",
    "print(with_anomaly.head())"
   ]
  },
  {
   "cell_type": "code",
   "execution_count": 8,
   "id": "ffdd926e-6fe4-4b4d-aefd-815ec985db5d",
   "metadata": {
    "tags": []
   },
   "outputs": [
    {
     "data": {
      "text/html": [
       "<div>\n",
       "<style scoped>\n",
       "    .dataframe tbody tr th:only-of-type {\n",
       "        vertical-align: middle;\n",
       "    }\n",
       "\n",
       "    .dataframe tbody tr th {\n",
       "        vertical-align: top;\n",
       "    }\n",
       "\n",
       "    .dataframe thead th {\n",
       "        text-align: right;\n",
       "    }\n",
       "</style>\n",
       "<table border=\"1\" class=\"dataframe\">\n",
       "  <thead>\n",
       "    <tr style=\"text-align: right;\">\n",
       "      <th></th>\n",
       "      <th>value</th>\n",
       "    </tr>\n",
       "  </thead>\n",
       "  <tbody>\n",
       "    <tr>\n",
       "      <th>count</th>\n",
       "      <td>4032.000000</td>\n",
       "    </tr>\n",
       "    <tr>\n",
       "      <th>mean</th>\n",
       "      <td>44.494254</td>\n",
       "    </tr>\n",
       "    <tr>\n",
       "      <th>std</th>\n",
       "      <td>32.432473</td>\n",
       "    </tr>\n",
       "    <tr>\n",
       "      <th>min</th>\n",
       "      <td>18.001010</td>\n",
       "    </tr>\n",
       "    <tr>\n",
       "      <th>25%</th>\n",
       "      <td>19.991382</td>\n",
       "    </tr>\n",
       "    <tr>\n",
       "      <th>50%</th>\n",
       "      <td>21.648503</td>\n",
       "    </tr>\n",
       "    <tr>\n",
       "      <th>75%</th>\n",
       "      <td>76.435943</td>\n",
       "    </tr>\n",
       "    <tr>\n",
       "      <th>max</th>\n",
       "      <td>164.947481</td>\n",
       "    </tr>\n",
       "  </tbody>\n",
       "</table>\n",
       "</div>"
      ],
      "text/plain": [
       "             value\n",
       "count  4032.000000\n",
       "mean     44.494254\n",
       "std      32.432473\n",
       "min      18.001010\n",
       "25%      19.991382\n",
       "50%      21.648503\n",
       "75%      76.435943\n",
       "max     164.947481"
      ]
     },
     "execution_count": 8,
     "metadata": {},
     "output_type": "execute_result"
    }
   ],
   "source": [
    "# Using the describe() function to get the mean, std,& min and max of the anomaly dataset\n",
    "with_anomaly.describe()"
   ]
  },
  {
   "cell_type": "code",
   "execution_count": 9,
   "id": "520f1657",
   "metadata": {},
   "outputs": [
    {
     "data": {
      "image/png": "[encoded data removed]",
      "text/plain": [
       "<Figure size 640x480 with 1 Axes>"
      ]
     },
     "metadata": {},
     "output_type": "display_data"
    }
   ],
   "source": [
    "# Create a plot to show the data\n",
    "fig, ax = plt.subplots()\n",
    "with_anomaly.plot(legend=False, ax=ax)\n",
    "plt.show()"
   ]
  },
  {
   "cell_type": "markdown",
   "id": "0e8f546a-8dac-41da-936e-4fff39e8cfaf",
   "metadata": {},
   "source": [
    "We can see that the data has a large anomaly at the 11/12 April timestamp, compared to the non-anomaly dataset"
   ]
  },
  {
   "cell_type": "markdown",
   "id": "d1ee5944",
   "metadata": {},
   "source": [
    "# Preparing training data - As far as here\n"
   ]
  },
  {
   "cell_type": "code",
   "execution_count": 10,
   "id": "df7faf23",
   "metadata": {},
   "outputs": [],
   "source": [
    "# Normalize and save the mean and std we get,\n",
    "# for normalizing test data.\n",
    "training_mean = no_anomaly.mean()\n",
    "\n"
   ]
  },
  {
   "cell_type": "code",
   "execution_count": 11,
   "id": "abcbb7b2-e069-4ccf-bf23-f2fb0c24a59a",
   "metadata": {},
   "outputs": [],
   "source": [
    "training_std = no_anomaly.std()"
   ]
  },
  {
   "cell_type": "code",
   "execution_count": 12,
   "id": "1492844b-dd2c-497e-b63e-0b8fa5f4a46e",
   "metadata": {},
   "outputs": [
    {
     "data": {
      "text/html": [
       "<div>\n",
       "<style scoped>\n",
       "    .dataframe tbody tr th:only-of-type {\n",
       "        vertical-align: middle;\n",
       "    }\n",
       "\n",
       "    .dataframe tbody tr th {\n",
       "        vertical-align: top;\n",
       "    }\n",
       "\n",
       "    .dataframe thead th {\n",
       "        text-align: right;\n",
       "    }\n",
       "</style>\n",
       "<table border=\"1\" class=\"dataframe\">\n",
       "  <thead>\n",
       "    <tr style=\"text-align: right;\">\n",
       "      <th></th>\n",
       "      <th>value</th>\n",
       "    </tr>\n",
       "    <tr>\n",
       "      <th>timestamp</th>\n",
       "      <th></th>\n",
       "    </tr>\n",
       "  </thead>\n",
       "  <tbody>\n",
       "    <tr>\n",
       "      <th>2014-04-01 00:00:00</th>\n",
       "      <td>-0.858829</td>\n",
       "    </tr>\n",
       "    <tr>\n",
       "      <th>2014-04-01 00:05:00</th>\n",
       "      <td>-0.728993</td>\n",
       "    </tr>\n",
       "    <tr>\n",
       "      <th>2014-04-01 00:10:00</th>\n",
       "      <td>-0.848148</td>\n",
       "    </tr>\n",
       "    <tr>\n",
       "      <th>2014-04-01 00:15:00</th>\n",
       "      <td>-0.729586</td>\n",
       "    </tr>\n",
       "    <tr>\n",
       "      <th>2014-04-01 00:20:00</th>\n",
       "      <td>-0.731173</td>\n",
       "    </tr>\n",
       "  </tbody>\n",
       "</table>\n",
       "</div>"
      ],
      "text/plain": [
       "                        value\n",
       "timestamp                    \n",
       "2014-04-01 00:00:00 -0.858829\n",
       "2014-04-01 00:05:00 -0.728993\n",
       "2014-04-01 00:10:00 -0.848148\n",
       "2014-04-01 00:15:00 -0.729586\n",
       "2014-04-01 00:20:00 -0.731173"
      ]
     },
     "execution_count": 12,
     "metadata": {},
     "output_type": "execute_result"
    }
   ],
   "source": [
    "df_training_value = (no_anomaly - training_mean) / training_std\n",
    "# \n",
    "df_training_value.head()"
   ]
  },
  {
   "cell_type": "code",
   "execution_count": 13,
   "id": "dae15fdf-5b7e-4ff6-a5a8-b48da3c6da58",
   "metadata": {},
   "outputs": [],
   "source": [
    "no_anomaly['less_mean'] = no_anomaly['value'] - no_anomaly['value'].mean()\n",
    "no_anomaly['div_std'] = no_anomaly['less_mean'] / no_anomaly['value'].std()"
   ]
  },
  {
   "cell_type": "code",
   "execution_count": 14,
   "id": "dc2b4d86-707f-4596-bacf-7511c2842e29",
   "metadata": {},
   "outputs": [
    {
     "data": {
      "text/html": [
       "<div>\n",
       "<style scoped>\n",
       "    .dataframe tbody tr th:only-of-type {\n",
       "        vertical-align: middle;\n",
       "    }\n",
       "\n",
       "    .dataframe tbody tr th {\n",
       "        vertical-align: top;\n",
       "    }\n",
       "\n",
       "    .dataframe thead th {\n",
       "        text-align: right;\n",
       "    }\n",
       "</style>\n",
       "<table border=\"1\" class=\"dataframe\">\n",
       "  <thead>\n",
       "    <tr style=\"text-align: right;\">\n",
       "      <th></th>\n",
       "      <th>value</th>\n",
       "      <th>less_mean</th>\n",
       "      <th>div_std</th>\n",
       "    </tr>\n",
       "    <tr>\n",
       "      <th>timestamp</th>\n",
       "      <th></th>\n",
       "      <th></th>\n",
       "      <th></th>\n",
       "    </tr>\n",
       "  </thead>\n",
       "  <tbody>\n",
       "    <tr>\n",
       "      <th>2014-04-01 00:00:00</th>\n",
       "      <td>18.324919</td>\n",
       "      <td>-24.113435</td>\n",
       "      <td>-0.858829</td>\n",
       "    </tr>\n",
       "    <tr>\n",
       "      <th>2014-04-01 00:05:00</th>\n",
       "      <td>21.970327</td>\n",
       "      <td>-20.468026</td>\n",
       "      <td>-0.728993</td>\n",
       "    </tr>\n",
       "    <tr>\n",
       "      <th>2014-04-01 00:10:00</th>\n",
       "      <td>18.624806</td>\n",
       "      <td>-23.813547</td>\n",
       "      <td>-0.848148</td>\n",
       "    </tr>\n",
       "    <tr>\n",
       "      <th>2014-04-01 00:15:00</th>\n",
       "      <td>21.953684</td>\n",
       "      <td>-20.484669</td>\n",
       "      <td>-0.729586</td>\n",
       "    </tr>\n",
       "    <tr>\n",
       "      <th>2014-04-01 00:20:00</th>\n",
       "      <td>21.909120</td>\n",
       "      <td>-20.529234</td>\n",
       "      <td>-0.731173</td>\n",
       "    </tr>\n",
       "    <tr>\n",
       "      <th>...</th>\n",
       "      <td>...</td>\n",
       "      <td>...</td>\n",
       "      <td>...</td>\n",
       "    </tr>\n",
       "    <tr>\n",
       "      <th>2014-04-14 23:35:00</th>\n",
       "      <td>20.211195</td>\n",
       "      <td>-22.227159</td>\n",
       "      <td>-0.791647</td>\n",
       "    </tr>\n",
       "    <tr>\n",
       "      <th>2014-04-14 23:40:00</th>\n",
       "      <td>20.531041</td>\n",
       "      <td>-21.907313</td>\n",
       "      <td>-0.780255</td>\n",
       "    </tr>\n",
       "    <tr>\n",
       "      <th>2014-04-14 23:45:00</th>\n",
       "      <td>19.032127</td>\n",
       "      <td>-23.406226</td>\n",
       "      <td>-0.833640</td>\n",
       "    </tr>\n",
       "    <tr>\n",
       "      <th>2014-04-14 23:50:00</th>\n",
       "      <td>21.798801</td>\n",
       "      <td>-20.639552</td>\n",
       "      <td>-0.735102</td>\n",
       "    </tr>\n",
       "    <tr>\n",
       "      <th>2014-04-14 23:55:00</th>\n",
       "      <td>18.682620</td>\n",
       "      <td>-23.755733</td>\n",
       "      <td>-0.846089</td>\n",
       "    </tr>\n",
       "  </tbody>\n",
       "</table>\n",
       "<p>4032 rows × 3 columns</p>\n",
       "</div>"
      ],
      "text/plain": [
       "                         value  less_mean   div_std\n",
       "timestamp                                          \n",
       "2014-04-01 00:00:00  18.324919 -24.113435 -0.858829\n",
       "2014-04-01 00:05:00  21.970327 -20.468026 -0.728993\n",
       "2014-04-01 00:10:00  18.624806 -23.813547 -0.848148\n",
       "2014-04-01 00:15:00  21.953684 -20.484669 -0.729586\n",
       "2014-04-01 00:20:00  21.909120 -20.529234 -0.731173\n",
       "...                        ...        ...       ...\n",
       "2014-04-14 23:35:00  20.211195 -22.227159 -0.791647\n",
       "2014-04-14 23:40:00  20.531041 -21.907313 -0.780255\n",
       "2014-04-14 23:45:00  19.032127 -23.406226 -0.833640\n",
       "2014-04-14 23:50:00  21.798801 -20.639552 -0.735102\n",
       "2014-04-14 23:55:00  18.682620 -23.755733 -0.846089\n",
       "\n",
       "[4032 rows x 3 columns]"
      ]
     },
     "execution_count": 14,
     "metadata": {},
     "output_type": "execute_result"
    }
   ],
   "source": [
    "no_anomaly"
   ]
  },
  {
   "cell_type": "code",
   "execution_count": 15,
   "id": "9876e26d-1cdf-45c5-a702-6cbb0c153848",
   "metadata": {},
   "outputs": [
    {
     "data": {
      "text/plain": [
       "(42.438353335806646, -7.342627387941552e-14, -2.616541242931684e-15)"
      ]
     },
     "execution_count": 15,
     "metadata": {},
     "output_type": "execute_result"
    }
   ],
   "source": [
    "no_anomaly['value'].mean(), no_anomaly['less_mean'].mean(), no_anomaly['div_std'].mean()"
   ]
  },
  {
   "cell_type": "code",
   "execution_count": 16,
   "id": "ca6f938f-04ee-4e02-854f-f490ca5e97eb",
   "metadata": {},
   "outputs": [
    {
     "data": {
      "text/plain": [
       "(28.077122281262515, 28.077122281262508, 1.0000000000000018)"
      ]
     },
     "execution_count": 16,
     "metadata": {},
     "output_type": "execute_result"
    }
   ],
   "source": [
    "no_anomaly['value'].std(), no_anomaly['less_mean'].std(), no_anomaly['div_std'].std()"
   ]
  },
  {
   "cell_type": "code",
   "execution_count": 17,
   "id": "fa58818b-829a-4cd8-baee-8b32077a44b3",
   "metadata": {},
   "outputs": [
    {
     "data": {
      "image/png": "[encoded data removed]",
      "text/plain": [
       "<Figure size 1000x400 with 1 Axes>"
      ]
     },
     "metadata": {},
     "output_type": "display_data"
    }
   ],
   "source": [
    "# \n",
    "fig, ax = plt.subplots(figsize=(10,4))\n",
    "\n",
    "# Use pandas to plot data frame.\n",
    "df_training_value.plot(legend=False, ax=ax);"
   ]
  },
  {
   "cell_type": "code",
   "execution_count": 18,
   "id": "652985ba-9404-41b0-9726-83e53335d28b",
   "metadata": {},
   "outputs": [],
   "source": [
    "window_size = 288\n",
    "#Window example:\n",
    "\n",
    "#[1, 1, 2, 4, 5, 6, 7, 1, 2, 3, 4, 5]\n",
    "#window_size = 3\n",
    "#[1, 1, 2]\n",
    "#[1, 2, 4]\n",
    "#[2, 4, 5]\n",
    "#[4, 5, 6]\n",
    "\n"
   ]
  },
  {
   "cell_type": "code",
   "execution_count": 19,
   "id": "d27e5173-1afa-45eb-a9d7-c693a1a21026",
   "metadata": {},
   "outputs": [],
   "source": [
    "# Window list example.\n",
    "L = [1, 1, 2, 4, 5, 6, 7, 1, 2, 3, 4, 5]"
   ]
  },
  {
   "cell_type": "code",
   "execution_count": 20,
   "id": "16678700-ec5f-4358-9a77-25776ac319a4",
   "metadata": {},
   "outputs": [],
   "source": [
    "# Example window size.\n",
    "win_size = 3"
   ]
  },
  {
   "cell_type": "code",
   "execution_count": 21,
   "id": "a472fd21-5858-4faa-9b93-a9a64afdce71",
   "metadata": {},
   "outputs": [
    {
     "data": {
      "text/plain": [
       "12"
      ]
     },
     "execution_count": 21,
     "metadata": {},
     "output_type": "execute_result"
    }
   ],
   "source": [
    "# Length of L.\n",
    "len(L)\n",
    "12"
   ]
  },
  {
   "cell_type": "code",
   "execution_count": 22,
   "id": "199fc10a-2084-46c5-b047-2e69851af5ff",
   "metadata": {},
   "outputs": [
    {
     "name": "stdout",
     "output_type": "stream",
     "text": [
      "[1, 1, 2]\n",
      "[1, 2, 4]\n",
      "[2, 4, 5]\n",
      "[4, 5, 6]\n",
      "[5, 6, 7]\n",
      "[6, 7, 1]\n",
      "[7, 1, 2]\n",
      "[1, 2, 3]\n",
      "[2, 3, 4]\n",
      "[3, 4, 5]\n"
     ]
    }
   ],
   "source": [
    "# Remove brackets.\n",
    "len(L) - win_size + 1\n",
    "\n",
    "# Print the windows.\n",
    "for i in range(len(L) - win_size + 1):\n",
    "    print(L[i:i + win_size])"
   ]
  },
  {
   "cell_type": "code",
   "execution_count": 23,
   "id": "77f47aca-26b3-456a-bd1d-9cbd8270f50c",
   "metadata": {},
   "outputs": [],
   "source": [
    "wins = []\n",
    "\n",
    "# Generate the windows\n",
    "for i in range(len(L) - win_size + 1):\n",
    "    wins.append(L[i:i + win_size])\n"
   ]
  },
  {
   "cell_type": "code",
   "execution_count": 24,
   "id": "b78f20d5-813b-4894-accb-93b285448660",
   "metadata": {},
   "outputs": [
    {
     "data": {
      "text/plain": [
       "array([[1, 1, 2],\n",
       "       [1, 2, 4],\n",
       "       [2, 4, 5],\n",
       "       [4, 5, 6],\n",
       "       [5, 6, 7],\n",
       "       [6, 7, 1],\n",
       "       [7, 1, 2],\n",
       "       [1, 2, 3],\n",
       "       [2, 3, 4],\n",
       "       [3, 4, 5]])"
      ]
     },
     "execution_count": 24,
     "metadata": {},
     "output_type": "execute_result"
    }
   ],
   "source": [
    "np.stack(wins)"
   ]
  },
  {
   "cell_type": "code",
   "execution_count": 25,
   "id": "9d78a79b-f945-48b6-ba26-2c07559f9b34",
   "metadata": {},
   "outputs": [],
   "source": [
    "def windows(vals, N=window_size):\n",
    "  # \n",
    "  L = []\n",
    "  # \n",
    "  for i in range(len(vals) - N + 1):\n",
    "    # \n",
    "    L.append(vals[i:i+N])\n",
    "  # Stack\n",
    "  return np.stack(L)"
   ]
  },
  {
   "cell_type": "code",
   "execution_count": 26,
   "id": "ca542717-0d20-415d-b3d2-9fe5a924c194",
   "metadata": {},
   "outputs": [
    {
     "data": {
      "text/plain": [
       "(array([-0.85882857]), array([-0.8460886]))"
      ]
     },
     "execution_count": 26,
     "metadata": {},
     "output_type": "execute_result"
    }
   ],
   "source": [
    "x_train = windows(df_training_value)\n",
    "# \n",
    "x_train[0][0], x_train[-1][-1]"
   ]
  },
  {
   "cell_type": "code",
   "execution_count": 27,
   "id": "77df984b-2f84-496f-88db-b9f59939808c",
   "metadata": {},
   "outputs": [
    {
     "data": {
      "text/plain": [
       "array([-0.85882857, -0.72899302, -0.84814772, -0.72958579, -0.731173  ,\n",
       "       -0.75730984, -0.77645641, -0.7880838 , -0.747012  , -0.829166  ,\n",
       "       -0.80377285, -0.7821597 , -0.81182078, -0.80949918, -0.82334701,\n",
       "       -0.79001779, -0.74922405, -0.84169024, -0.73727717, -0.77223023,\n",
       "       -0.75311352, -0.79116337, -0.75934728, -0.86809294, -0.75381057,\n",
       "       -0.86468256, -0.74361965, -0.72908121, -0.82850668, -0.84043795,\n",
       "       -0.76136364, -0.8343536 , -0.74708881, -0.85574949, -0.85245676,\n",
       "       -0.73090636, -0.77440264, -0.74974936, -0.82419543, -0.77402585,\n",
       "       -0.78574242, -0.7844733 , -0.77316412, -0.78843253, -0.80927467,\n",
       "       -0.83109167, -0.76090519, -0.83816509, -0.77176485, -0.83715923,\n",
       "       -0.78131343, -0.76396862, -0.83924191, -0.86186112, -0.85174179,\n",
       "       -0.78406773, -0.74938477, -0.86399047, -0.76581026, -0.82177506,\n",
       "       -0.80222751, -0.73807119, -0.82310669, -0.80410682, -0.86845167,\n",
       "       -0.85877599, -0.83356075, -0.86643297, -0.78045221, -0.8096542 ,\n",
       "       -0.79230956, -0.84551986, -0.82824105, -0.77582935, -0.73287933,\n",
       "       -0.86321832, -0.74355256, -0.7882157 , -0.79006227, -0.79912888,\n",
       "       -0.86051472, -0.85759665, -0.78479216, -0.82182635, -0.73972257,\n",
       "       -0.81247611, -0.84998837, -0.76857869, -0.82860841, -0.79553994,\n",
       "       -0.77098436, -0.74214503, -0.75754161, -0.77404332, -0.77357716,\n",
       "       -0.73564002, -0.82825643, -0.8702425 , -0.83165699, -0.83935909,\n",
       "       -0.77611284, -0.78011937, -0.78585361, -0.86808681, -0.76657575,\n",
       "       -0.82430925, -0.7756539 , -0.79110813,  0.83423034,  0.73340436,\n",
       "        0.71395293,  1.07098925,  1.11307181,  0.98296271,  0.71831972,\n",
       "        0.86295228,  1.02130195,  1.04594803,  0.72548104,  0.66823317,\n",
       "        1.36958529,  1.17305538,  1.11661005,  0.98307138,  1.27459976,\n",
       "        1.44642694,  1.50528567,  1.28866513,  1.26031743,  1.02295817,\n",
       "        1.27933882,  1.18598059,  1.3813925 ,  1.25767699,  1.1736019 ,\n",
       "        1.09127902,  1.21586925,  1.09223039,  1.13768838,  1.59675342,\n",
       "        1.28904484,  1.33876025,  1.53233922,  1.60141677,  1.38146244,\n",
       "        1.51223576,  1.23588256,  1.22381772,  1.2790048 ,  1.43257027,\n",
       "        1.43808241,  1.22922231,  1.12561563,  1.40974009,  1.12283575,\n",
       "        1.37905941,  1.44731563,  1.45141157,  1.48152744,  1.54954504,\n",
       "        1.33709539,  1.46829683,  1.4050141 ,  1.15859057,  1.06689361,\n",
       "        1.21436719,  1.30466379,  1.40383661,  1.53708371,  1.16457702,\n",
       "        1.12429225,  1.60177134,  1.11431721,  1.32540935,  1.38642273,\n",
       "        1.36124227,  1.10177385,  1.08524575,  1.1128578 ,  1.38643638,\n",
       "        1.36304532,  1.18604649,  1.41628631,  1.52016681,  1.07654239,\n",
       "        1.33670957,  1.44565443,  1.19662931,  1.22823281,  1.40253218,\n",
       "        1.56454005,  1.51438674,  1.38516952,  1.46899077,  1.26076513,\n",
       "        1.41812743,  1.31852542,  1.16110478,  1.45275926,  1.36997393,\n",
       "        1.25723151,  1.57220199,  1.06479764,  1.23281399,  1.08528647,\n",
       "        1.48968441,  1.45297419,  1.24169607,  1.43790453,  1.2785004 ,\n",
       "        1.48382995,  1.31169265,  1.28781332,  1.58553613,  1.19583776,\n",
       "        1.12151008, -0.35250349, -0.26479567, -0.39962031, -0.47160544,\n",
       "       -0.40840388, -0.37042247, -0.44883702, -0.33573617, -0.25831579,\n",
       "       -0.38277522, -0.40488824, -0.39440839, -0.77509723, -0.65253443,\n",
       "       -0.72728022, -0.73167631, -0.6882095 , -0.72293893, -0.69003755,\n",
       "       -0.78366561, -0.6636319 , -0.64340272, -0.68995268, -0.64115899,\n",
       "       -0.83292321, -0.78536741, -0.76722084, -0.77014874, -0.79644794,\n",
       "       -0.80569367, -0.83651316, -0.79786583, -0.83128515, -0.74788262,\n",
       "       -0.82454968, -0.84647101, -0.78825327, -0.78211741, -0.74251058,\n",
       "       -0.7847296 , -0.8178686 , -0.75237369, -0.78998354, -0.85597483,\n",
       "       -0.78632299, -0.73734213, -0.81059211, -0.82490508, -0.84932652,\n",
       "       -0.84818912, -0.80807162, -0.78484064, -0.8582896 , -0.73580158,\n",
       "       -0.76210229, -0.78613203, -0.75164888, -0.85835073, -0.80178754,\n",
       "       -0.77993325, -0.75220135, -0.75863962, -0.83079766, -0.73620985,\n",
       "       -0.85255954, -0.74557822, -0.73192653, -0.84503486, -0.76738913,\n",
       "       -0.86453747, -0.81250829, -0.79671155])"
      ]
     },
     "execution_count": 27,
     "metadata": {},
     "output_type": "execute_result"
    }
   ],
   "source": [
    "#\n",
    "df_training_value['value'].values\n",
    "\n",
    "# \n",
    "x_train[0].flatten()"
   ]
  },
  {
   "cell_type": "code",
   "execution_count": 28,
   "id": "1de9762b-6ade-4a10-b439-a78963cf8a1a",
   "metadata": {},
   "outputs": [
    {
     "data": {
      "image/png": "[encoded data removed]",
      "text/plain": [
       "<Figure size 1200x600 with 1 Axes>"
      ]
     },
     "metadata": {},
     "output_type": "display_data"
    }
   ],
   "source": [
    "# \n",
    "window_no = 200\n",
    "\n",
    "# \n",
    "fig, ax = plt.subplots(figsize=(12, 6))\n",
    "\n",
    "# \n",
    "y = df_training_value['value'].values\n",
    "\n",
    "# \n",
    "ax.plot(np.arange(y.shape[0]), y, label='signal')\n",
    "\n",
    "# The first window.\n",
    "w = x_train[window_no].flatten()\n",
    "\n",
    "# \n",
    "ax.plot(np.arange(w.shape[0]) + window_no, w, label='window')\n",
    "\n",
    "ax.legend();"
   ]
  },
  {
   "cell_type": "code",
   "execution_count": 29,
   "id": "3a1fa72e",
   "metadata": {},
   "outputs": [
    {
     "name": "stdout",
     "output_type": "stream",
     "text": [
      "Training input shape:  (3745, 288, 1)\n"
     ]
    }
   ],
   "source": [
    "TIME_STEPS = 288\n",
    "\n",
    "# Generated training sequences for use in the model.\n",
    "def create_sequences(values, time_steps=TIME_STEPS):\n",
    "    output = []\n",
    "    for i in range(len(values) - time_steps + 1):\n",
    "        output.append(values[i : (i + time_steps)])\n",
    "    return np.stack(output)\n",
    "\n",
    "\n",
    "x_train = create_sequences(df_training_value.values)\n",
    "print(\"Training input shape: \", x_train.shape)"
   ]
  },
  {
   "cell_type": "code",
   "execution_count": null,
   "id": "51319e32-81c5-4c25-8209-7091223664f7",
   "metadata": {},
   "outputs": [],
   "source": []
  },
  {
   "cell_type": "code",
   "execution_count": 30,
   "id": "1fbc7e3f-35a9-44c0-8325-0b6e0f34d249",
   "metadata": {},
   "outputs": [],
   "source": [
    "#\n",
    "layers = [\n",
    "  #\n",
    "  keras.layers.Input(shape=(x_train.shape[1], x_train.shape[2])),\n",
    "  #\n",
    "  keras.layers.Conv1D(\n",
    "    filters=32, kernel_size=7, padding=\"same\", strides=2, activation=\"relu\"),\n",
    "  #\n",
    "  keras.layers.Dropout(rate=0.2),\n",
    "  #\n",
    "  keras.layers.Conv1D(\n",
    "    filters=16, kernel_size=7, padding=\"same\", strides=2, activation=\"relu\"),\n",
    "  #\n",
    "  keras.layers.Conv1DTranspose(\n",
    "    filters=16, kernel_size=7, padding=\"same\", strides=2, activation=\"relu\"),\n",
    "  #\n",
    "  keras.layers.Dropout(rate=0.2),\n",
    "  #\n",
    "  keras.layers.Conv1DTranspose(\n",
    "    filters=32, kernel_size=7, padding=\"same\", strides=2, activation=\"relu\"),\n",
    "  #\n",
    "  keras.layers.Conv1DTranspose(filters=1, kernel_size=7, padding=\"same\"),\n",
    "]\n"
   ]
  },
  {
   "cell_type": "code",
   "execution_count": 31,
   "id": "7765b929-92f7-428a-b722-0509de0a1f7c",
   "metadata": {},
   "outputs": [
    {
     "name": "stderr",
     "output_type": "stream",
     "text": [
      "2023-01-04 23:53:02.451924: W tensorflow/compiler/xla/stream_executor/platform/default/dso_loader.cc:64] Could not load dynamic library 'libcuda.so.1'; dlerror: libcuda.so.1: cannot open shared object file: No such file or directory\n",
      "2023-01-04 23:53:02.451981: W tensorflow/compiler/xla/stream_executor/cuda/cuda_driver.cc:265] failed call to cuInit: UNKNOWN ERROR (303)\n",
      "2023-01-04 23:53:02.452078: I tensorflow/compiler/xla/stream_executor/cuda/cuda_diagnostics.cc:156] kernel driver does not appear to be running on this host (penguin): /proc/driver/nvidia/version does not exist\n",
      "2023-01-04 23:53:02.463986: I tensorflow/core/platform/cpu_feature_guard.cc:193] This TensorFlow binary is optimized with oneAPI Deep Neural Network Library (oneDNN) to use the following CPU instructions in performance-critical operations:  AVX2 FMA\n",
      "To enable them in other operations, rebuild TensorFlow with the appropriate compiler flags.\n"
     ]
    }
   ],
   "source": [
    "#\n",
    "model = keras.Sequential(layers)\n"
   ]
  },
  {
   "cell_type": "code",
   "execution_count": 32,
   "id": "319af599-2656-48c7-91b5-27b0d8db7894",
   "metadata": {},
   "outputs": [],
   "source": [
    "# \n",
    "optimizer = keras.optimizers.Adam(learning_rate=0.001)\n",
    "# \n"
   ]
  },
  {
   "cell_type": "code",
   "execution_count": 33,
   "id": "45787392-cef0-4c4c-8692-0591f39abd76",
   "metadata": {},
   "outputs": [],
   "source": [
    "model.compile(optimizer=optimizer, loss=\"mse\")\n"
   ]
  },
  {
   "cell_type": "code",
   "execution_count": 34,
   "id": "eb59fa88-6b01-4eea-b7c8-fe5e0e970779",
   "metadata": {},
   "outputs": [
    {
     "name": "stdout",
     "output_type": "stream",
     "text": [
      "Model: \"sequential\"\n",
      "_________________________________________________________________\n",
      " Layer (type)                Output Shape              Param #   \n",
      "=================================================================\n",
      " conv1d (Conv1D)             (None, 144, 32)           256       \n",
      "                                                                 \n",
      " dropout (Dropout)           (None, 144, 32)           0         \n",
      "                                                                 \n",
      " conv1d_1 (Conv1D)           (None, 72, 16)            3600      \n",
      "                                                                 \n",
      " conv1d_transpose (Conv1DTra  (None, 144, 16)          1808      \n",
      " nspose)                                                         \n",
      "                                                                 \n",
      " dropout_1 (Dropout)         (None, 144, 16)           0         \n",
      "                                                                 \n",
      " conv1d_transpose_1 (Conv1DT  (None, 288, 32)          3616      \n",
      " ranspose)                                                       \n",
      "                                                                 \n",
      " conv1d_transpose_2 (Conv1DT  (None, 288, 1)           225       \n",
      " ranspose)                                                       \n",
      "                                                                 \n",
      "=================================================================\n",
      "Total params: 9,505\n",
      "Trainable params: 9,505\n",
      "Non-trainable params: 0\n",
      "_________________________________________________________________\n"
     ]
    }
   ],
   "source": [
    "model.summary()"
   ]
  },
  {
   "cell_type": "code",
   "execution_count": null,
   "id": "64e7ab5a",
   "metadata": {},
   "outputs": [
    {
     "name": "stdout",
     "output_type": "stream",
     "text": [
      "Epoch 1/50\n",
      "27/27 [==============================] - 4s 90ms/step - loss: 0.5663 - val_loss: 0.0853\n",
      "Epoch 2/50\n",
      "27/27 [==============================] - 2s 69ms/step - loss: 0.0797 - val_loss: 0.0396\n",
      "Epoch 3/50\n",
      "27/27 [==============================] - 2s 66ms/step - loss: 0.0572 - val_loss: 0.0346\n",
      "Epoch 4/50\n",
      "27/27 [==============================] - 2s 63ms/step - loss: 0.0486 - val_loss: 0.0303\n",
      "Epoch 5/50\n",
      "27/27 [==============================] - 2s 69ms/step - loss: 0.0430 - val_loss: 0.0276\n",
      "Epoch 6/50\n",
      "27/27 [==============================] - 2s 72ms/step - loss: 0.0383 - val_loss: 0.0248\n",
      "Epoch 7/50\n",
      "27/27 [==============================] - 2s 74ms/step - loss: 0.0340 - val_loss: 0.0222\n",
      "Epoch 8/50\n",
      "27/27 [==============================] - 2s 63ms/step - loss: 0.0305 - val_loss: 0.0199\n",
      "Epoch 9/50\n",
      "27/27 [==============================] - 2s 66ms/step - loss: 0.0277 - val_loss: 0.0196\n",
      "Epoch 10/50\n",
      "27/27 [==============================] - 2s 68ms/step - loss: 0.0256 - val_loss: 0.0187\n",
      "Epoch 11/50\n",
      "27/27 [==============================] - 2s 69ms/step - loss: 0.0238 - val_loss: 0.0182\n",
      "Epoch 12/50\n",
      "27/27 [==============================] - 2s 73ms/step - loss: 0.0224 - val_loss: 0.0164\n",
      "Epoch 13/50\n",
      "27/27 [==============================] - 2s 68ms/step - loss: 0.0212 - val_loss: 0.0165\n",
      "Epoch 14/50\n",
      "27/27 [==============================] - 2s 66ms/step - loss: 0.0203 - val_loss: 0.0160\n",
      "Epoch 15/50\n",
      "27/27 [==============================] - 2s 67ms/step - loss: 0.0194 - val_loss: 0.0144\n",
      "Epoch 16/50\n",
      "27/27 [==============================] - 2s 66ms/step - loss: 0.0186 - val_loss: 0.0150\n",
      "Epoch 17/50\n",
      "27/27 [==============================] - 2s 71ms/step - loss: 0.0180 - val_loss: 0.0134\n",
      "Epoch 18/50\n",
      "27/27 [==============================] - 2s 71ms/step - loss: 0.0174 - val_loss: 0.0142\n",
      "Epoch 19/50\n",
      "27/27 [==============================] - 2s 67ms/step - loss: 0.0168 - val_loss: 0.0128\n",
      "Epoch 20/50\n",
      "27/27 [==============================] - 2s 69ms/step - loss: 0.0163 - val_loss: 0.0125\n",
      "Epoch 21/50\n",
      "27/27 [==============================] - 2s 71ms/step - loss: 0.0159 - val_loss: 0.0119\n",
      "Epoch 22/50\n",
      "27/27 [==============================] - 2s 69ms/step - loss: 0.0154 - val_loss: 0.0123\n",
      "Epoch 23/50\n",
      "27/27 [==============================] - 2s 78ms/step - loss: 0.0149 - val_loss: 0.0114\n",
      "Epoch 24/50\n",
      "27/27 [==============================] - 2s 69ms/step - loss: 0.0144 - val_loss: 0.0108\n",
      "Epoch 25/50\n",
      "27/27 [==============================] - 2s 69ms/step - loss: 0.0139 - val_loss: 0.0103\n",
      "Epoch 26/50\n",
      "27/27 [==============================] - 2s 73ms/step - loss: 0.0133 - val_loss: 0.0102\n",
      "Epoch 27/50\n",
      "27/27 [==============================] - 2s 69ms/step - loss: 0.0129 - val_loss: 0.0097\n",
      "Epoch 28/50\n",
      "27/27 [==============================] - 2s 71ms/step - loss: 0.0123 - val_loss: 0.0092\n",
      "Epoch 29/50\n",
      "27/27 [==============================] - 2s 66ms/step - loss: 0.0120 - val_loss: 0.0095\n",
      "Epoch 30/50\n",
      "27/27 [==============================] - 2s 66ms/step - loss: 0.0116 - val_loss: 0.0086\n",
      "Epoch 31/50\n",
      "27/27 [==============================] - 2s 70ms/step - loss: 0.0111 - val_loss: 0.0088\n",
      "Epoch 32/50\n",
      "27/27 [==============================] - 2s 64ms/step - loss: 0.0107 - val_loss: 0.0087\n",
      "Epoch 33/50\n",
      "27/27 [==============================] - 2s 61ms/step - loss: 0.0104 - val_loss: 0.0074\n",
      "Epoch 34/50\n",
      "27/27 [==============================] - 2s 64ms/step - loss: 0.0101 - val_loss: 0.0083\n",
      "Epoch 35/50\n",
      "27/27 [==============================] - 2s 66ms/step - loss: 0.0098 - val_loss: 0.0081\n",
      "Epoch 36/50\n",
      "27/27 [==============================] - 2s 66ms/step - loss: 0.0095 - val_loss: 0.0075\n",
      "Epoch 37/50\n",
      "27/27 [==============================] - 2s 70ms/step - loss: 0.0093 - val_loss: 0.0070\n",
      "Epoch 38/50\n",
      "27/27 [==============================] - 2s 70ms/step - loss: 0.0091 - val_loss: 0.0063\n",
      "Epoch 39/50\n",
      "27/27 [==============================] - 2s 71ms/step - loss: 0.0089 - val_loss: 0.0064\n",
      "Epoch 40/50\n",
      "27/27 [==============================] - 2s 61ms/step - loss: 0.0086 - val_loss: 0.0072\n",
      "Epoch 41/50\n",
      "27/27 [==============================] - 2s 70ms/step - loss: 0.0084 - val_loss: 0.0069\n",
      "Epoch 42/50\n",
      "27/27 [==============================] - 2s 71ms/step - loss: 0.0083 - val_loss: 0.0066\n",
      "Epoch 43/50\n",
      "27/27 [==============================] - 2s 72ms/step - loss: 0.0080 - val_loss: 0.0060\n",
      "Epoch 44/50\n",
      "27/27 [==============================] - 2s 70ms/step - loss: 0.0078 - val_loss: 0.0068\n",
      "Epoch 45/50\n",
      "27/27 [==============================] - 2s 72ms/step - loss: 0.0077 - val_loss: 0.0065\n",
      "Epoch 46/50\n",
      "27/27 [==============================] - 2s 63ms/step - loss: 0.0075 - val_loss: 0.0059\n",
      "Epoch 47/50\n",
      "27/27 [==============================] - 2s 68ms/step - loss: 0.0073 - val_loss: 0.0058\n",
      "Epoch 48/50\n",
      "27/27 [==============================] - 2s 76ms/step - loss: 0.0072 - val_loss: 0.0055\n",
      "Epoch 49/50\n",
      "27/27 [==============================] - 2s 71ms/step - loss: 0.0071 - val_loss: 0.0060\n",
      "Epoch 50/50\n",
      "27/27 [==============================] - 2s 68ms/step - loss: 0.0070 - val_loss: 0.0054\n"
     ]
    }
   ],
   "source": [
    "history = model.fit(\n",
    "    x_train,\n",
    "    x_train,\n",
    "    epochs=50,\n",
    "    batch_size=128,\n",
    "    validation_split=0.1,\n",
    "    callbacks=[\n",
    "        keras.callbacks.EarlyStopping(monitor=\"val_loss\", patience=5, mode=\"min\")\n",
    "    ],\n",
    ")\n",
    "\n"
   ]
  },
  {
   "cell_type": "code",
   "execution_count": null,
   "id": "6f420436-7535-42df-ac7a-a1e9c6e6156f",
   "metadata": {},
   "outputs": [],
   "source": [
    "history.history[\"loss\"]"
   ]
  },
  {
   "cell_type": "code",
   "execution_count": null,
   "id": "7de639a9-b323-4520-8762-5d39cdcaba9e",
   "metadata": {},
   "outputs": [],
   "source": [
    "history.history[\"val_loss\"]"
   ]
  },
  {
   "cell_type": "code",
   "execution_count": null,
   "id": "5e4fb4fb",
   "metadata": {},
   "outputs": [],
   "source": [
    "# \n",
    "fig, ax = plt.subplots(figsize=(10, 6))\n",
    "# \n",
    "ax.plot(history.history[\"loss\"], label=\"Training Loss\")\n",
    "# \n",
    "ax.plot(history.history[\"val_loss\"], label=\"Validation Loss\")\n",
    "# \n",
    "ax.legend();"
   ]
  },
  {
   "cell_type": "markdown",
   "id": "245a210a",
   "metadata": {},
   "source": [
    "Anomaly detection "
   ]
  },
  {
   "cell_type": "code",
   "execution_count": null,
   "id": "38185308",
   "metadata": {},
   "outputs": [],
   "source": []
  },
  {
   "cell_type": "code",
   "execution_count": null,
   "id": "3e1a4013",
   "metadata": {},
   "outputs": [],
   "source": [
    "# Get train MAE loss.\n",
    "x_train_pred = model.predict(x_train)\n",
    "\n",
    "\n",
    "\n",
    "\n"
   ]
  },
  {
   "cell_type": "code",
   "execution_count": null,
   "id": "050490d9-1231-423a-9f57-6e1fe60bf87a",
   "metadata": {},
   "outputs": [],
   "source": [
    "# Calculate loss...\n",
    "train_mae_loss = np.mean(np.abs(x_train_pred - x_train), axis=1)\n"
   ]
  },
  {
   "cell_type": "code",
   "execution_count": null,
   "id": "4a65a572-cbab-41e6-8aa3-1a46c9403b93",
   "metadata": {},
   "outputs": [],
   "source": [
    "# \n",
    "fig, ax = plt.subplots(figsize=(10, 6))\n",
    "# \n",
    "ax.hist(train_mae_loss, bins=50)\n",
    "# \n",
    "ax.set_xlabel(\"Train MAE loss\")\n",
    "#\n",
    "ax.set_ylabel(\"No of samples\");"
   ]
  },
  {
   "cell_type": "code",
   "execution_count": null,
   "id": "8b19efdf-9507-4dd6-b06d-23fc0e946748",
   "metadata": {},
   "outputs": [],
   "source": [
    "# Get reconstruction loss threshold.\n",
    "threshold = np.max(train_mae_loss)\n",
    "print(\"Reconstruction error threshold: \", threshold)\n"
   ]
  },
  {
   "cell_type": "code",
   "execution_count": null,
   "id": "0a675b1c-b95a-4420-bce9-2994f118585e",
   "metadata": {},
   "outputs": [],
   "source": [
    "# \n",
    "fig, ax = plt.subplots(figsize=(10, 6))\n",
    "\n",
    "# \n",
    "ax.plot(x_train[0])\n",
    "\n",
    "# \n",
    "ax.plot(x_train_pred[0]);\n"
   ]
  },
  {
   "cell_type": "markdown",
   "id": "8b8d14e6",
   "metadata": {},
   "source": [
    "prepare test data\n"
   ]
  },
  {
   "cell_type": "code",
   "execution_count": null,
   "id": "631b7eda-cb5c-4bec-acd7-f6c433937ce5",
   "metadata": {},
   "outputs": [],
   "source": [
    "# \n",
    "df_test_value = (with_anomaly- training_mean) / training_std\n",
    "# \n",
    "fig, ax = plt.subplots(figsize=(10, 6))\n",
    "\n",
    "# \n",
    "df_test_value.plot(legend=False, ax=ax);\n"
   ]
  },
  {
   "cell_type": "code",
   "execution_count": null,
   "id": "0dd8b986",
   "metadata": {},
   "outputs": [],
   "source": [
    "# Create sequences from test values.\n",
    "x_test = windows(df_test_value.values)\n",
    "\n",
    "x_test.shape\n",
    "(3745, 288, 1)\n",
    "\n",
    "\n",
    "\n",
    "\n"
   ]
  },
  {
   "cell_type": "code",
   "execution_count": null,
   "id": "8201cdd5-922c-45f4-8972-2d9df57dc015",
   "metadata": {},
   "outputs": [],
   "source": [
    "# \n",
    "x_test_pred = model.predict(x_test)\n",
    "\n"
   ]
  },
  {
   "cell_type": "code",
   "execution_count": null,
   "id": "cb1016ff-b61c-4f49-a615-a9c69b156ded",
   "metadata": {},
   "outputs": [],
   "source": [
    "# \n",
    "test_mae_loss = np.mean(np.abs(x_test_pred - x_test), axis=1)\n",
    "\n",
    "test_mae_loss\n",
    "\n",
    "\n"
   ]
  },
  {
   "cell_type": "code",
   "execution_count": null,
   "id": "fff13da8-a8ac-47ba-acac-6fa733705fd4",
   "metadata": {},
   "outputs": [],
   "source": [
    "# \n",
    "test_mae_loss = test_mae_loss.reshape((-1))\n",
    "\n",
    "test_mae_loss"
   ]
  },
  {
   "cell_type": "code",
   "execution_count": null,
   "id": "21e63a80-dc29-415a-8a05-7c15c50012b8",
   "metadata": {},
   "outputs": [],
   "source": [
    "# \n",
    "fig, ax = plt.subplots(figsize=(10, 6))\n",
    "\n",
    "#\n",
    "ax.hist(test_mae_loss, bins=50)\n",
    "\n",
    "# \n",
    "ax.set_xlabel(\"test MAE loss\")\n",
    "\n",
    "# \n",
    "ax.set_ylabel(\"No of samples\");"
   ]
  },
  {
   "cell_type": "code",
   "execution_count": null,
   "id": "cdb1d29f-647d-413d-acd6-c49ec5c81850",
   "metadata": {},
   "outputs": [],
   "source": [
    "# Detect all the samples which are anomalies.\n",
    "anomalies = test_mae_loss > threshold\n",
    "\n",
    "# NUmber of anomalies.\n",
    "np.sum(anomalies)"
   ]
  },
  {
   "cell_type": "code",
   "execution_count": null,
   "id": "de8688e8-93cd-4d52-8b8a-4d5ee329bff5",
   "metadata": {},
   "outputs": [],
   "source": [
    "# data i is an anomaly if samples [(i - timesteps + 1) to (i)] are anomalies\n",
    "inds = []\n",
    "\n",
    "for i in range(window_size - 1, len(df_test_value) - window_size + 1):\n",
    "    if np.all(anomalies[i - window_size + 1 : i]):\n",
    "        inds.append(i)"
   ]
  },
  {
   "cell_type": "code",
   "execution_count": null,
   "id": "b7dbb140-946e-44d3-868e-528599dd87e6",
   "metadata": {},
   "outputs": [],
   "source": [
    "# \n",
    "df_subset = df_daily_jumpsup.iloc[inds]\n"
   ]
  },
  {
   "cell_type": "code",
   "execution_count": null,
   "id": "1548c4a3-47ad-4ae1-8b4a-c305757ed4ca",
   "metadata": {},
   "outputs": [],
   "source": [
    "#\n",
    "fig, ax = plt.subplots(figsize=(10, 6))\n",
    "\n",
    "# \n",
    "df_daily_jumpsup.plot(legend=False, ax=ax)\n",
    "\n",
    "# \n",
    "df_subset.plot(legend=False, ax=ax, color=\"r\");"
   ]
  },
  {
   "cell_type": "code",
   "execution_count": null,
   "id": "a0803eb6-1178-41fc-9658-cb23b4c11f57",
   "metadata": {},
   "outputs": [],
   "source": []
  },
  {
   "cell_type": "code",
   "execution_count": null,
   "id": "170202d7",
   "metadata": {},
   "outputs": [],
   "source": []
  },
  {
   "cell_type": "code",
   "execution_count": null,
   "id": "747e9941",
   "metadata": {},
   "outputs": [],
   "source": []
  },
  {
   "cell_type": "code",
   "execution_count": null,
   "id": "e4b51b96-1542-49b8-8991-314da2eb50de",
   "metadata": {},
   "outputs": [],
   "source": []
  },
  {
   "cell_type": "code",
   "execution_count": null,
   "id": "b8a809e3-8045-47ab-a92e-64f7c1c5f84d",
   "metadata": {},
   "outputs": [],
   "source": []
  }
 ],
 "metadata": {
  "kernelspec": {
   "display_name": "Python 3 (ipykernel)",
   "language": "python",
   "name": "python3"
  },
  "language_info": {
   "codemirror_mode": {
    "name": "ipython",
    "version": 3
   },
   "file_extension": ".py",
   "mimetype": "text/x-python",
   "name": "python",
   "nbconvert_exporter": "python",
   "pygments_lexer": "ipython3",
   "version": "3.9.13"
  }
 },
 "nbformat": 4,
 "nbformat_minor": 5
}
