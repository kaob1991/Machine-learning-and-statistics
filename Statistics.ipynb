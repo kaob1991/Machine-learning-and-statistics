{
 "cells": [
  {
   "cell_type": "markdown",
   "metadata": {},
   "source": [
    "# Statistics \n",
    "\n",
    "## This notebook is in partial fulfillment of a HDip in Data Analytics in Computing\n",
    "\n",
    "### Author: Katie O'Brien \n",
    "***\n",
    "***\n"
   ]
  },
  {
   "cell_type": "code",
   "execution_count": 1,
   "metadata": {},
   "outputs": [],
   "source": [
    "from scipy.stats import fisher_exact\n",
    "import numpy as np\n",
    "import pandas as pd"
   ]
  },
  {
   "cell_type": "markdown",
   "metadata": {},
   "source": [
    "# Week 1\n",
    "\n",
    "*Exercise 1*\n",
    "\n",
    "*Use scipy's version of Fisher's exact test to simulate the Lady Tasting Tea problem.*"
   ]
  },
  {
   "cell_type": "markdown",
   "metadata": {
    "tags": []
   },
   "source": [
    "## Lady Tasting Tea\n",
    "\n",
    "\n",
    "Lady tasting tea is a experiment designed by the polymath Ronald Fisher that was reported in his 1935 book \"The Design of Experiments\"[1] \n",
    "\n",
    "![](Youngronaldfisher2.jpeg)\n",
    "\n",
    "This experiment is the original exposition of his notion of a null hypothesis - ie: a statement that is generally assumed to remain possibly true, and researchers work to reject, nullify or disprove this statement.The concept of the null hypothesis is a fundamental part of the scientific process.[2]\n",
    "\n",
    "In his book he describes a null hypothesis, as something which is \"never proved or established, but is possibly disproved, in the course of experimentation\".\n",
    "\n",
    "A colleague of Fisher's, Muriel Bristol, claimed to be able to tell whether the tea or the milk was added first to a cup. Fisher was extremely sceptical of this procamation and himself and a 3rd colleague William Roach, put together an experiment to test her ability. \n",
    "\n",
    "It was this simple experiment that led Fisher to do important work in the design of statistically valid experiments based on the statistical significance of experimental results. He developed Fisher's exact test to assess the probabilities and statistical significance of experiments.\n",
    "\n",
    "### The experiment\n",
    "\n",
    "Fisher proposed to give her eight cups, four of each variety, in random order. One could then ask what the probability was for her getting the specific number of cups she identified correct, but just by chance.\n",
    "\n",
    "If there was 4 cups with tea in first; and 4 cups with milk first what is the chance that she would guess the correct cups.\n",
    "\n",
    "In null-hypothesis significance testing, the p-value is the probability of obtaining test results at least as extreme as the result actually observed, under the assumption that the null hypothesis is correct.[6]\n",
    "\n",
    "\n",
    "\n",
    "\n",
    "[1]: https://home.iitk.ac.in/~shalab/anova/DOE-RAF.pdf\n",
    "[2]: https://www.statisticshowto.com/probability-and-statistics/null-hypothesis/\n",
    "[3]: https://en.wikipedia.org/wiki/Ronald_Fisher\n",
    "[5]: https://web.archive.org/web/20040710084649/http://www.dean.usma.edu/math/people/Sturdivant/images/MA376/dater/ladytea.pdf\n",
    "[6]: https://en.wikipedia.org/wiki/P-value"
   ]
  },
  {
   "cell_type": "markdown",
   "metadata": {},
   "source": [
    "We need to figure out what is the chance that the correct 4 cups will be picked from the 8. While there a number of ways to determine this, we will use \"Scipy's Fisher_exact\"  function.[1] This uses a 2 x 2 table in order to run the test. The lady tasting tea is a 1 x 2 test as we only have 2 choices with only 1 subject. This results in the below table appearing repetitious, however, this is necessary for the above function to run correctly\n",
    "\n",
    "\n",
    "[1]: https://docs.scipy.org/doc/scipy/reference/generated/scipy.stats.fisher_exact.html"
   ]
  },
  {
   "cell_type": "code",
   "execution_count": 2,
   "metadata": {},
   "outputs": [
    {
     "data": {
      "text/html": [
       "<div>\n",
       "<style scoped>\n",
       "    .dataframe tbody tr th:only-of-type {\n",
       "        vertical-align: middle;\n",
       "    }\n",
       "\n",
       "    .dataframe tbody tr th {\n",
       "        vertical-align: top;\n",
       "    }\n",
       "\n",
       "    .dataframe thead th {\n",
       "        text-align: right;\n",
       "    }\n",
       "</style>\n",
       "<table border=\"1\" class=\"dataframe\">\n",
       "  <thead>\n",
       "    <tr style=\"text-align: right;\">\n",
       "      <th></th>\n",
       "      <th>Milk First</th>\n",
       "      <th>Tea First</th>\n",
       "    </tr>\n",
       "  </thead>\n",
       "  <tbody>\n",
       "    <tr>\n",
       "      <th>Tea First</th>\n",
       "      <td>0.0</td>\n",
       "      <td>4.0</td>\n",
       "    </tr>\n",
       "    <tr>\n",
       "      <th>Milk First</th>\n",
       "      <td>4.0</td>\n",
       "      <td>0.0</td>\n",
       "    </tr>\n",
       "  </tbody>\n",
       "</table>\n",
       "</div>"
      ],
      "text/plain": [
       "            Milk First  Tea First\n",
       "Tea First          0.0        4.0\n",
       "Milk First         4.0        0.0"
      ]
     },
     "execution_count": 2,
     "metadata": {},
     "output_type": "execute_result"
    }
   ],
   "source": [
    "# Creating a dataframe in order to clearly display the data. \n",
    "\n",
    "ar=np.array([[0.0, 4.0],[4.0, 0.0]])    \n",
    "df=pd.DataFrame(ar, columns=[\"Milk First\", \"Tea First\"])\n",
    "df.index=[\"Tea First\", \"Milk First\"] \n",
    "df "
   ]
  },
  {
   "cell_type": "markdown",
   "metadata": {},
   "source": [
    "It should be noted that while in the table above we have the subject picking the 4 \"tea first\" cups, it would also produce the exact same results if the subject picked the \"milk first cups\". \n",
    "We have the table layout of the results we need, now to find out the p-value:"
   ]
  },
  {
   "cell_type": "code",
   "execution_count": 3,
   "metadata": {},
   "outputs": [
    {
     "data": {
      "text/plain": [
       "0.028571428571428567"
      ]
     },
     "execution_count": 3,
     "metadata": {},
     "output_type": "execute_result"
    }
   ],
   "source": [
    "oddsratio,pvalue =fisher_exact([[0, 4],[4, 0]])  \n",
    "pvalue"
   ]
  },
  {
   "cell_type": "markdown",
   "metadata": {},
   "source": [
    "In Scipy.stats we have to use a table of shape (2,2) in order to obtain a p-value for the result.The input for the test above matches the table displayed- it can be seen that a table of shape (1,2) would be ideal to prevent duplication, however that is not possible in the circumstance.\n",
    "\n",
    "The result of the fisher's exact is measuring the odds of picking the tea first cups, and the milk first cups, without bearing in mind that by process of emimination, when the subject is picking the \"tea first\" cups, they are inadvertently also **not** picking the \"milk first\" cups. In order to get the correct result from the \"fisher_exact\" test,  we need to divide the p value by 2.\n"
   ]
  },
  {
   "cell_type": "code",
   "execution_count": 4,
   "metadata": {},
   "outputs": [
    {
     "data": {
      "text/plain": [
       "0.014285714285714284"
      ]
     },
     "execution_count": 4,
     "metadata": {},
     "output_type": "execute_result"
    }
   ],
   "source": [
    "result = pvalue/2\n",
    "result"
   ]
  },
  {
   "cell_type": "markdown",
   "metadata": {},
   "source": [
    "### Result:\n",
    "\n",
    "As we can see above, the odds of the subject simply guessing the correct cups is .14285.... When multiplied by 100 to obtain the percentage we can see that this is equal to ~ 1.4% or a 1/70 chance. \n",
    "\n",
    "\n",
    "Fisher was willing to reject the null hypothesis if, and only if, the lady the lady correctly picked the correct cups, effectively acknowledging the lady's ability at a 1.4% significance level (but without quantifying her ability). Fisher later discussed the benefits of more trials and repeated tests.\n",
    "\n",
    "Author David Salsburg reports that a colleague of Fisher, H. Fairfield Smith, revealed that in the actual experiment the lady succeeded in identifying all eight cups correctly.\n",
    "\n",
    "\n"
   ]
  },
  {
   "cell_type": "markdown",
   "metadata": {},
   "source": [
    "### *Exercise 2* \n",
    " *Calculate the minimum number of cups of tea required to ensure the probability of randomly selecting the correct cups is less than or equal to 1%.*\n",
    "\n",
    "We can modify the result above to determine how many cups that the subject would have to guess in order to ensure the probability is less than 1%"
   ]
  },
  {
   "cell_type": "code",
   "execution_count": 5,
   "metadata": {},
   "outputs": [
    {
     "name": "stdout",
     "output_type": "stream",
     "text": [
      "0.3968253968253969 %\n"
     ]
    }
   ],
   "source": [
    "# Change the values within the square brackets to determine the findings\n",
    "oddsratio,pvalue =fisher_exact([[5,0],[0, 5]])  \n",
    "pvalue\n",
    "result = print(((pvalue/2)*100),\"%\")"
   ]
  },
  {
   "cell_type": "markdown",
   "metadata": {},
   "source": [
    "We can see that having the subject pick 5 correct cups from 10 would give a .369% chance of randomly selecting the correct cups. "
   ]
  },
  {
   "cell_type": "markdown",
   "metadata": {},
   "source": [
    "References:\n",
    "\n",
    "- Fisher 1971, Chapter II. The Principles of Experimentation, Illustrated by a Psycho-physical Experiment, Section 8. The Null Hypothesis.\n",
    "- Salsburg, D. (2002) The Lady Tasting Tea: How Statistics Revolutionized Science in the Twentieth Century, W.H. Freeman / Owl Book. ISBN 0-8050-7134-2\n"
   ]
  },
  {
   "cell_type": "markdown",
   "metadata": {},
   "source": [
    "***\n",
    "***\n",
    "***"
   ]
  },
  {
   "cell_type": "markdown",
   "metadata": {},
   "source": [
    "## Week 2 "
   ]
  },
  {
   "cell_type": "markdown",
   "metadata": {},
   "source": [
    "*Take the code from the Examples section of the scipy stats documentation for independent samples t-tests, add it to your own notebook and add explain how it works using MarkDown cells and code comments. Improve it in any way you think it could be improved.*"
   ]
  },
  {
   "cell_type": "markdown",
   "metadata": {},
   "source": [
    "Student's T-test is a test developed by a scientist, William Sealy Gosset, working in the guinness factory in Dublin in the early 1900's- late 1800's. He became interested in the problems around small sample sizes, as the factory was sometimes limited to small samples of raw products. One theory on the naming of the test was that the company policy at the time was to use an alias when publishing. Gosset used the alias Student, thus informing the name Student's t-test. The other theory was that Guinness factory wanted to run tests on quality assurance on the raw materials that were being used in production, and didn't want their competitors to know. \n",
    "\n",
    "The t-distribution is part of a family of continuous probability distributions that arise when estimating the mean of a normally distributed population where the sample size is small and the standard deviation is unknown. This distribution plays a role the Student's t-test for assessing the statistical significance of the difference between two sample means, the construction of confidence intervals for the difference between two population means, and in linear regression analysis.\n",
    "\n",
    "### Types of T-tests\n",
    "\n",
    "The most frequently used t-tests are one-sample and two-sample tests:\n",
    "\n",
    "- A one-sample location test of whether the mean of a population has a value specified in a null hypothesis.\n",
    "\n",
    "- A two-sample location test of the null hypothesis such that the means of two populations are equal. All such tests are usually called Student's t-tests, though strictly speaking that name should only be used if the variances of the two populations are also assumed to be equal; the form of the test used when this assumption is dropped is sometimes called Welch's t-test. These tests are often referred to as unpaired or independent samples t-tests, as they are typically applied when the statistical units underlying the two samples being compared are non-overlapping.\n",
    "\n",
    "\n",
    "#### Paired samples\n",
    "Paired samples t-tests typically consist of a sample of matched pairs of similar units, or one group of units that has been tested twice (a \"repeated measures\" t-test).\n",
    "\n",
    "A typical example of the repeated measures t-test would be where subjects are tested prior to a treatment, say for high blood pressure, and the same subjects are tested again after treatment with a blood-pressure-lowering medication. By comparing the same patient's numbers before and after treatment, we are effectively using each patient as their own control. That way the correct rejection of the null hypothesis (here: of no difference made by the treatment) can become much more likely.\n",
    "\n",
    "#### Independent (unpaired) samples\n",
    "The independent samples t-test is used when two separate sets of independent and identically distributed samples are obtained, and one variable from each of the two populations is compared. For example, suppose we are evaluating the effect of a medical treatment, and we enroll 100 subjects into our study, then randomly assign 50 subjects to the treatment group and 50 subjects to the control group. In this case, we have two independent samples and would use the unpaired form of the t-test.\n",
    "\n",
    "##### Scipy.stats.ttest_ind\n",
    "\n",
    "This function calculates the t-test for the means of 2 independent samples of scores. By this we mean that the data in one sample is unrelated to the other. Compare this to a paired samples t-test which can compare before/after scores on interventionalist studies. \n",
    "It is important that researchers and analysts understand the data that they are analysing, in order to pick the correct analysis tools for the job. \n",
    "\n",
    "In the independent sample t-test the test assumes that the populations have identical variances by default. The test is for the null hypothesis that 2 independent samples have identical average (expected) values.[1]\n",
    "\n",
    "[1]: https://docs.scipy.org/doc/scipy/reference/generated/scipy.stats.ttest_ind.html"
   ]
  },
  {
   "cell_type": "markdown",
   "metadata": {},
   "source": [
    "### Code"
   ]
  },
  {
   "cell_type": "markdown",
   "metadata": {},
   "source": [
    "The following code is pulled directly from the examples on the scipy.stats website: https://docs.scipy.org/doc/scipy/reference/generated/scipy.stats.ttest_ind.html\n",
    "\n",
    "\n",
    "\n",
    "\n",
    "\n",
    "\n",
    "\n",
    "\n",
    "\n",
    "\n",
    "\n",
    "\n",
    "\n",
    "\n",
    "\n",
    "\n",
    "\n",
    "\n",
    "\n",
    "\n",
    "\n",
    "\n",
    "\n",
    "[1]: https://docs.scipy.org/doc/scipy/reference/generated/scipy.stats.ttest_ind.html"
   ]
  },
  {
   "cell_type": "code",
   "execution_count": 6,
   "metadata": {},
   "outputs": [],
   "source": [
    "# Importing required packages and selecting a random number generator from numpy\n",
    "from scipy import stats\n",
    "rng = np.random.default_rng()"
   ]
  },
  {
   "cell_type": "code",
   "execution_count": 7,
   "metadata": {},
   "outputs": [],
   "source": [
    "# The RVS samples are created using a random generator using a normal distribution. \n",
    "# The mean is set by loc and the scale is setting the standard deviation.\n",
    "# The size of the samples in these instances is 500 + 100 and the random state is set using a numpy RNG\n",
    "rvs1 = stats.norm.rvs(loc=5, scale=10, size=500, random_state=rng)\n",
    "rvs2 = stats.norm.rvs(loc=5, scale=10, size=500, random_state=rng)\n",
    "rvs3 = stats.norm.rvs(loc=5, scale=20, size=500, random_state=rng)\n",
    "rvs4 = stats.norm.rvs(loc=5, scale=20, size=100, random_state=rng)\n",
    "rvs5 = stats.norm.rvs(loc=8, scale=20, size=100, random_state=rng)"
   ]
  },
  {
   "cell_type": "markdown",
   "metadata": {
    "tags": []
   },
   "source": [
    "***\n",
    "Test with sample with identical means:"
   ]
  },
  {
   "cell_type": "code",
   "execution_count": 8,
   "metadata": {},
   "outputs": [
    {
     "data": {
      "text/plain": [
       "Ttest_indResult(statistic=0.5112799769225118, pvalue=0.6092681155724654)"
      ]
     },
     "execution_count": 8,
     "metadata": {},
     "output_type": "execute_result"
    }
   ],
   "source": [
    "# The t-test is used by simply using 2 of the samples above and calling the function \n",
    "stats.ttest_ind(rvs1, rvs2)\n",
    "\n",
    "# The result is returned as follows: The t-value, and the p-value:"
   ]
  },
  {
   "cell_type": "markdown",
   "metadata": {},
   "source": [
    "We can also let the function know if the 2 samples have equal population variances by using \"equal_var\". This takes in a boolean operator. If False, we are going to ask the function to perform a Welch's t-test instead of a Student's t-test. "
   ]
  },
  {
   "cell_type": "code",
   "execution_count": 19,
   "metadata": {},
   "outputs": [
    {
     "data": {
      "text/plain": [
       "Ttest_indResult(statistic=0.5112799769225118, pvalue=0.609268181959482)"
      ]
     },
     "execution_count": 19,
     "metadata": {},
     "output_type": "execute_result"
    }
   ],
   "source": [
    "# equal_var takes in a boolean operator\n",
    "# If True (default), perform a standard independent 2 sample test that assumes equal population variances\n",
    "#If False, perform Welch’s t-test, which does not assume equal population variance\n",
    "stats.ttest_ind(rvs1, rvs2, equal_var=False)"
   ]
  },
  {
   "cell_type": "markdown",
   "metadata": {},
   "source": [
    "***"
   ]
  },
  {
   "cell_type": "markdown",
   "metadata": {},
   "source": [
    "Scypy's ttest_ind underestimates the p-value for unequal variances. Note that rvs3 has a larger Standard deviation than rvs1. "
   ]
  },
  {
   "cell_type": "code",
   "execution_count": 20,
   "metadata": {},
   "outputs": [
    {
     "data": {
      "text/plain": [
       "Ttest_indResult(statistic=0.8637384634744444, pvalue=0.3879391124860613)"
      ]
     },
     "execution_count": 20,
     "metadata": {},
     "output_type": "execute_result"
    }
   ],
   "source": [
    "stats.ttest_ind(rvs1, rvs3)"
   ]
  },
  {
   "cell_type": "code",
   "execution_count": 11,
   "metadata": {},
   "outputs": [
    {
     "data": {
      "text/plain": [
       "Ttest_indResult(statistic=0.8637384634744444, pvalue=0.3880243536985388)"
      ]
     },
     "execution_count": 11,
     "metadata": {},
     "output_type": "execute_result"
    }
   ],
   "source": [
    "stats.ttest_ind(rvs1, rvs3, equal_var=False)"
   ]
  },
  {
   "cell_type": "markdown",
   "metadata": {},
   "source": [
    "***\n",
    "When the size of the sample in one does not match the sample size in the second, the equal variance t-statistic (Student's t-test);  is no longer equal to the unequal variance t-test(Welch's t-test):\n",
    "This can be seen in the next 2 examples:"
   ]
  },
  {
   "cell_type": "code",
   "execution_count": 12,
   "metadata": {},
   "outputs": [
    {
     "data": {
      "text/plain": [
       "Ttest_indResult(statistic=-0.06783076785459832, pvalue=0.945943023946996)"
      ]
     },
     "execution_count": 12,
     "metadata": {},
     "output_type": "execute_result"
    }
   ],
   "source": [
    "# Equal variance t-statistic\n",
    "stats.ttest_ind(rvs1, rvs4)"
   ]
  },
  {
   "cell_type": "code",
   "execution_count": 21,
   "metadata": {},
   "outputs": [
    {
     "data": {
      "text/plain": [
       "Ttest_indResult(statistic=-0.04157852895796947, pvalue=0.9669124049967042)"
      ]
     },
     "execution_count": 21,
     "metadata": {},
     "output_type": "execute_result"
    }
   ],
   "source": [
    "# Unequal variance t-statistic\n",
    "stats.ttest_ind(rvs1, rvs4, equal_var=False)\n",
    "# Note the differences in the t-value, and p-value"
   ]
  },
  {
   "cell_type": "markdown",
   "metadata": {},
   "source": [
    "***\n",
    "Running a T-test with different means, variance, and sample size:"
   ]
  },
  {
   "cell_type": "code",
   "execution_count": 22,
   "metadata": {},
   "outputs": [
    {
     "data": {
      "text/plain": [
       "Ttest_indResult(statistic=-2.062958713514101, pvalue=0.03954770461634422)"
      ]
     },
     "execution_count": 22,
     "metadata": {},
     "output_type": "execute_result"
    }
   ],
   "source": [
    "stats.ttest_ind(rvs1, rvs5)"
   ]
  },
  {
   "cell_type": "code",
   "execution_count": 23,
   "metadata": {},
   "outputs": [
    {
     "data": {
      "text/plain": [
       "Ttest_indResult(statistic=-1.3380428621013978, pvalue=0.18367316338174833)"
      ]
     },
     "execution_count": 23,
     "metadata": {},
     "output_type": "execute_result"
    }
   ],
   "source": [
    "# Again, with a different mean, sample size, and variance- this time telling the test the variances are unequal\n",
    "stats.ttest_ind(rvs1, rvs5, equal_var=False)"
   ]
  },
  {
   "cell_type": "markdown",
   "metadata": {},
   "source": [
    "#### Permutations\n",
    "\n",
    "If 0 or None (default), use the t-distribution to calculate p-values. Otherwise, permutations is the number of random permutations that will be used to estimate p-values using a permutation test. If permutations equals or exceeds the number of distinct partitions of the pooled data, an exact test is performed instead (i.e. each distinct partition is used exactly once).\n",
    "\n",
    "The t-test quantifies the difference between the arithmetic means of the two samples. The p-value quantifies the probability of observing more extreme values assuming the null hypothesis, that the samples are drawn from populations with the same population means, is true. A p-value larger than a chosen threshold (e.g. 5% or 1%) indicates that our observation is not so unlikely to have occurred by chance. Therefore, we do not reject the null hypothesis of equal population means. If the p-value is smaller than our threshold, then we have evidence against the null hypothesis of equal population means.\n",
    "\n",
    "The permutation test can be computationally expensive and not necessarily more accurate than the analytical test, but it does not make strong assumptions about the shape of the underlying distribution.\n",
    "\n",
    "When performing a permutation test, more permutations typically yields more accurate results.\n",
    "Use a np.random.Generator to ensure reproducibility:"
   ]
  },
  {
   "cell_type": "code",
   "execution_count": 16,
   "metadata": {},
   "outputs": [
    {
     "data": {
      "text/plain": [
       "Ttest_indResult(statistic=-2.062958713514101, pvalue=0.0401)"
      ]
     },
     "execution_count": 16,
     "metadata": {},
     "output_type": "execute_result"
    }
   ],
   "source": [
    "stats.ttest_ind(rvs1, rvs5, permutations=10000,\n",
    "                random_state=rng)"
   ]
  },
  {
   "cell_type": "markdown",
   "metadata": {},
   "source": [
    "Use of trimming is commonly referred to as the trimmed t-test. At times called Yuen’s t-test, this is an extension of Welch’s t-test, with the difference being the use of winsorized means in calculation of the variance and the trimmed sample size in calculation of the statistic.\n",
    "Winsorization is the transformation of statistics by limiting extreme values in the statistical data to reduce the effect of possibly spurious outliers.Trimming is recommended if the underlying distribution is long-tailed or contaminated with outliers as in sample \"a\" below.\n",
    "\n",
    "If \"trim\" is nonzero, performs a trimmed (Yuen’s) t-test. Defines the fraction of elements to be trimmed from each end of the input samples. If 0 (default), no elements will be trimmed from either side. The number of trimmed elements from each tail is the floor of the trim times the number of elements. Valid range is [0, .5).\n",
    "\n",
    "\n",
    "Take these two samples, one of which has an extreme tail."
   ]
  },
  {
   "cell_type": "code",
   "execution_count": 17,
   "metadata": {},
   "outputs": [],
   "source": [
    "# sample a has an extreme tail in this instance\n",
    "a = (56, 128.6, 12, 123.8, 64.34, 78, 763.3)\n",
    "b = (1.1, 2.9, 4.2)"
   ]
  },
  {
   "cell_type": "markdown",
   "metadata": {},
   "source": [
    "Use the trim keyword to perform a trimmed (Yuen) t-test. For example, using 20% trimming, trim=.2, the test will reduce the impact of one (np.floor(trim*len(a))) element from each tail of sample a. It will have no effect on sample b because np.floor(trim*len(b)) is 0."
   ]
  },
  {
   "cell_type": "code",
   "execution_count": null,
   "metadata": {},
   "outputs": [],
   "source": [
    "stats.ttest_ind(a, b, trim=.2)"
   ]
  },
  {
   "cell_type": "markdown",
   "metadata": {},
   "source": [
    "References: \n",
    "\n",
    "https://www.scribbr.com/statistics/t-test/#:~:text=A%20t%2Dtest%20is%20a,does%20a%20t%2Dtest%20measure%3F"
   ]
  }
 ],
 "metadata": {
  "kernelspec": {
   "display_name": "Python 3 (ipykernel)",
   "language": "python",
   "name": "python3"
  },
  "language_info": {
   "codemirror_mode": {
    "name": "ipython",
    "version": 3
   },
   "file_extension": ".py",
   "mimetype": "text/x-python",
   "name": "python",
   "nbconvert_exporter": "python",
   "pygments_lexer": "ipython3",
   "version": "3.9.13"
  }
 },
 "nbformat": 4,
 "nbformat_minor": 4
}
